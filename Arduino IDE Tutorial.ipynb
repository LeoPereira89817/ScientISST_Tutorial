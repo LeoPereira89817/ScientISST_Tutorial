{
 "cells": [
  {
   "cell_type": "markdown",
   "id": "a26fb81b",
   "metadata": {},
   "source": [
    "# <div  style=\"color:#303030;font-family:'arial blACK', sans-serif,monospace; text-align: center; padding: 50px 0; vertical-align:middle;\" > <img src=\"https://raw.githubusercontent.com/scientisst/scientisst-sense-api-python/main/docs/img/logo.png\" style=\" background:#00a0e4;border-radius:10px;width:150px;text-align:right; margin-left:10%\" width=100 height=100 align=\"right\"  /> <span style=\"position:relative; bottom:70px; margin-left:5%\">    ScientISST - Arduino IDE Tutorial </span> </div>"
   ]
  },
  {
   "cell_type": "markdown",
   "id": "5f396eac",
   "metadata": {},
   "source": [
    "In this tutorial, we will describe how to program the ScientISST board through the Arduino's Integrated Development Environment (IDE), whether you’re using Windows, Mac OS X or Linux. "
   ]
  },
  {
   "cell_type": "markdown",
   "id": "c8890e6a",
   "metadata": {},
   "source": [
    "## I. Prerequisites - Installing the Arduino IDE\n",
    "<br>\n",
    "<div class=\"title\"style=\"width:100%; background:#00a0e4;font-family:'arial black',monospace; text-align: center; padding: 7px 0; border-radius: 5px 50px;margin-top:-15px\" >  </div>"
   ]
  },
  {
   "cell_type": "markdown",
   "id": "778fa018",
   "metadata": {},
   "source": [
    "Before starting this tutorial, you need to download and install the latest version of the Arduino IDE from: https://www.arduino.cc/en/software [[1]](#reference_1). If you don’t, uninstall it and install it again. Otherwise, it may not work.\n",
    "\n",
    "After you have the latest Arduino IDE software installed in your computer, open the software to confirm that it is working. \n",
    "\n",
    "Hovering with the mouse pointer on each button shows a brief description of its function. The following figure \n",
    "summarizes these functionalities:"
   ]
  },
  {
   "cell_type": "markdown",
   "id": "3c0e10b6",
   "metadata": {},
   "source": [
    "<table title=\"Overview of the Arduino IDE Graphical User Interface (GUI)\">\n",
    "    <caption>Overview of the Arduino IDE Graphical User Interface (GUI)</caption>\n",
    "    <tr>\n",
    "<td> <img src=\"https://github.com/PIA-Group/ScientIST-notebooks/blob/master/_Resources/Images/A.Signal_Acquisition_IMG/a004/ArduinoIDE.png?raw=true\" width=\"500\"/> </td>\n",
    "<td> <img src=\"https://github.com/PIA-Group/ScientIST-notebooks/blob/master/_Resources/Images/A.Signal_Acquisition_IMG/a004/ArduinoIDEexplained.png?raw=true\" width=\"600\"/> </td>\n",
    "</tr></table>"
   ]
  },
  {
   "cell_type": "markdown",
   "id": "b6b78c6f",
   "metadata": {},
   "source": [
    "> **Note:**\n",
    "To get a better understanding on the Arduino Software (IDE) and its functionalities, a more comprehensive guide on this topic is available at: https://www.arduino.cc/en/Guide/Environment [[2]](#reference_2)."
   ]
  },
  {
   "cell_type": "markdown",
   "id": "eb23102f",
   "metadata": {},
   "source": [
    "## II. Installing the ESP32 Add-on in Arduino IDE\n",
    "<br>\n",
    "<div class=\"title\"style=\"width:100%; background:#00a0e4;font-family:'arial black',monospace; text-align: center; padding: 7px 0; border-radius: 5px 50px;margin-top:-15px\" >  </div>"
   ]
  },
  {
   "cell_type": "markdown",
   "id": "badde8a1",
   "metadata": {},
   "source": [
    "The ScientISST board is built upon an ESP32-WROOM-32, a powerful, generic Wi-Fi+BT+BLE MCU module, which has at its core the ESP32-D0WDQ6 chip. This is why you need to install the ESP32 Add-on in the Arduino IDE in order to program the ScientISST board using the Arduino IDE and its programming language. To do so, follow these next instructions:"
   ]
  },
  {
   "cell_type": "markdown",
   "id": "e8cb722a",
   "metadata": {},
   "source": [
    "1\\. In the Arduino IDE, go to File > Preferences.<br>\n",
    "\n",
    "<p align=\"center\">\n",
    "    <img src=\"https://raw.githubusercontent.com/LeoPereira89817/ScientISST_Tutorial/main/images/file_preference_marked.png\" width=\"200\" style=\"display:block; margin:auto\"/>\n",
    "</p>"
   ]
  },
  {
   "cell_type": "markdown",
   "id": "dd2f0179",
   "metadata": {},
   "source": [
    "2\\. Enter https://dl.espressif.com/dl/package_esp32_index.json [[3]](#reference_3) into the “Additional Board Manager URLs” field in the “Preferences” window as shown in the figure below. Then, click the “OK” button:<br>\n",
    "\n",
    "<img src=\"https://raw.githubusercontent.com/LeoPereira89817/ScientISST_Tutorial/main/images/preferences_marked.png\" width=\"600\" style=\"display:block; margin:auto\">\n",
    "\n",
    "> **Note:** \n",
    "If you already have the URL of another board in the “Additional Board Manager URLs” field, you can separate the URLs with a comma as displayed in the figure above."
   ]
  },
  {
   "cell_type": "markdown",
   "id": "5daf4eb9",
   "metadata": {},
   "source": [
    "3\\. Open the Boards Manager. Go to Tools > Board > Boards Manager...<br>\n",
    "\n",
    "<img src=\"https://raw.githubusercontent.com/LeoPereira89817/ScientISST_Tutorial/main/images/tools_boards_marked.png\" width=\"600\" style=\"display:block; margin:auto\">"
   ]
  },
  {
   "cell_type": "markdown",
   "id": "df40024c",
   "metadata": {},
   "source": [
    "4\\. Search for ESP32 and press the “Install” button for the “**esp32** by **Espressif Systems**”.<br>\n",
    "\n",
    "<img src=\"https://raw.githubusercontent.com/LeoPereira89817/ScientISST_Tutorial/main/images/esp32_install_marked.png\" width=\"600\" style=\"display:block; margin:auto\">"
   ]
  },
  {
   "cell_type": "markdown",
   "id": "f48fb41e",
   "metadata": {},
   "source": [
    "5\\. The add-on should be installed after a few seconds, as shown in the following figure:<br>\n",
    "\n",
    "<img src=\"https://raw.githubusercontent.com/LeoPereira89817/ScientISST_Tutorial/main/images/esp32_installed.png\" width=\"600\" style=\"display:block; margin:auto\">"
   ]
  },
  {
   "cell_type": "markdown",
   "id": "8e1a8fce",
   "metadata": {},
   "source": [
    "## III. Setting up your ScientISST board\n",
    "<br>\n",
    "<div class=\"title\"style=\"width:100%; background:#00a0e4;font-family:'arial black',monospace; text-align: center; padding: 7px 0; border-radius: 5px 50px;margin-top:-15px\" >  </div>"
   ]
  },
  {
   "cell_type": "markdown",
   "id": "d43b8847",
   "metadata": {},
   "source": [
    "1. Connect the USB-C cable to your computer and to the corresponding socket on the ScientISST board.<br>\n",
    "\n",
    "   1.1 Connect the standard USB-A connector to your computer:<br>\n",
    "   \n",
    "   <img src=\"https://raw.githubusercontent.com/LeoPereira89817/ScientISST_Tutorial/main/images/usb_pc.png\" width=\"600\" style=\"display:block; margin:auto\">\n",
    "   \n",
    "   1.2 Connect the other end to your ScientISST board:<br>\n",
    "   \n",
    "   <img src=\"https://raw.githubusercontent.com/LeoPereira89817/ScientISST_Tutorial/main/images/usb_board.png\" width=\"400\" style=\"display:block; margin:auto\">\n",
    "   \n",
    "   \n",
    "2\\. In the Arduino IDE, go to Tools > Board > ESP32 Arduino and select your board model, i.e. ESP32 Dev Module.<br>\n",
    "\n",
    "<img src=\"https://raw.githubusercontent.com/LeoPereira89817/ScientISST_Tutorial/main/images/select_board_marked.png\" width=\"600\" style=\"display:block; margin:auto\">\n",
    "\n",
    "3\\. Select Port\n"
   ]
  },
  {
   "cell_type": "markdown",
   "id": "acb67d8d",
   "metadata": {},
   "source": [
    "## IV. Testing your Setup \n",
    "<br>\n",
    "<div class=\"title\"style=\"width:100%; background:#00a0e4;font-family:'arial black',monospace; text-align: center; padding: 7px 0; border-radius: 5px 50px;margin-top:-15px\" >  </div>"
   ]
  },
  {
   "cell_type": "markdown",
   "id": "02ada469",
   "metadata": {},
   "source": []
  },
  {
   "cell_type": "markdown",
   "id": "91844023",
   "metadata": {},
   "source": [
    "## V. References\n",
    "<br>\n",
    "<div class=\"title\"style=\"width:100%; background:#00a0e4;font-family:'arial black',monospace; text-align: center; padding: 7px 0; border-radius: 5px 50px;margin-top:-15px\" >  </div>"
   ]
  },
  {
   "cell_type": "markdown",
   "id": "da003e39",
   "metadata": {},
   "source": [
    "<a id='reference_1'></a> 1. https://www.arduino.cc/en/software\n",
    "\n",
    "<a id='reference_2'></a> 2. https://www.arduino.cc/en/Guide/Environment\n",
    "\n",
    "<a id='reference_2'></a> 3. https://dl.espressif.com/dl/package_esp32_index.json"
   ]
  },
  {
   "cell_type": "markdown",
   "id": "ae0678b4",
   "metadata": {},
   "source": [
    "```Contributors: Prof. Hugo Silva; Leonor Pereira```"
   ]
  }
 ],
 "metadata": {
  "kernelspec": {
   "display_name": "Python 3 (ipykernel)",
   "language": "python",
   "name": "python3"
  },
  "language_info": {
   "codemirror_mode": {
    "name": "ipython",
    "version": 3
   },
   "file_extension": ".py",
   "mimetype": "text/x-python",
   "name": "python",
   "nbconvert_exporter": "python",
   "pygments_lexer": "ipython3",
   "version": "3.9.7"
  }
 },
 "nbformat": 4,
 "nbformat_minor": 5
}
