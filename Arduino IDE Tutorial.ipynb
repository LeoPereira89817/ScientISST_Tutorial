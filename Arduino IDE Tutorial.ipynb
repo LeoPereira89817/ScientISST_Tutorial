{
 "cells": [
  {
   "cell_type": "markdown",
   "id": "d8372e62",
   "metadata": {},
   "source": [
    "# <div  style=\"color:#303030;font-family:'arial blACK', sans-serif,monospace; text-align: center; padding: 50px 0; vertical-align:middle;\" > <img src=\"https://raw.githubusercontent.com/scientisst/scientisst-sense-api-python/main/docs/img/logo.png\" style=\" background:#00a0e4;border-radius:10px;width:150px;text-align:right; margin-left:10%\" width=100 height=100 align=\"right\"  /> <span style=\"position:relative; bottom:70px; margin-left:5%\">    ScientISST - Arduino IDE Tutorial </span> </div>"
   ]
  },
  {
   "cell_type": "markdown",
   "id": "4af54dda",
   "metadata": {},
   "source": [
    "In this tutorial, we will describe how to program the ScientISST - Sense development board through the Arduino's Integrated Development Environment (IDE), whether you’re using Windows, Mac OS X or Linux. "
   ]
  },
  {
   "cell_type": "markdown",
   "id": "8cca619d",
   "metadata": {},
   "source": [
    "## I. Prerequisites - Installing the Arduino IDE\n",
    "<br>\n",
    "<div class=\"title\"style=\"width:100%; background:#00a0e4;font-family:'arial black',monospace; text-align: center; padding: 7px 0; border-radius: 5px 50px;margin-top:-15px\" >  </div>"
   ]
  },
  {
   "cell_type": "markdown",
   "id": "aec8343f",
   "metadata": {},
   "source": [
    "Before starting this tutorial, you need to download and install the latest version of the Arduino IDE from: https://www.arduino.cc/en/software [[1]](#reference_1). If you don’t, uninstall it and install it again. Otherwise, it may not work.\n",
    "\n",
    "After you have the latest Arduino IDE software installed in your computer, open the software to confirm that it is working. \n",
    "\n",
    "Hovering with the mouse pointer on each button shows a brief description of its function. The following figure \n",
    "summarizes these functionalities:"
   ]
  },
  {
   "cell_type": "markdown",
   "id": "520a84f3",
   "metadata": {},
   "source": [
    "<table title=\"Overview of the Arduino IDE Graphical User Interface (GUI)\">\n",
    "    <caption>Overview of the Arduino IDE Graphical User Interface (GUI)</caption>\n",
    "    <tr>\n",
    "<td> <img src=\"https://github.com/PIA-Group/ScientIST-notebooks/blob/master/_Resources/Images/A.Signal_Acquisition_IMG/a004/ArduinoIDE.png?raw=true\" width=\"500\"/> </td>\n",
    "<td> <img src=\"https://github.com/PIA-Group/ScientIST-notebooks/blob/master/_Resources/Images/A.Signal_Acquisition_IMG/a004/ArduinoIDEexplained.png?raw=true\" width=\"600\"/> </td>\n",
    "</tr></table>"
   ]
  },
  {
   "cell_type": "markdown",
   "id": "b73b6813",
   "metadata": {},
   "source": [
    "> **Note:**\n",
    "To get a better understanding on the Arduino Software (IDE) and its functionalities, a more comprehensive guide on this topic is available at: https://www.arduino.cc/en/Guide/Environment [[2]](#reference_2)."
   ]
  },
  {
   "cell_type": "markdown",
   "id": "b1c4f433",
   "metadata": {},
   "source": [
    "## II. Installing the ESP32 Add-on in Arduino IDE\n",
    "<br>\n",
    "<div class=\"title\"style=\"width:100%; background:#00a0e4;font-family:'arial black',monospace; text-align: center; padding: 7px 0; border-radius: 5px 50px;margin-top:-15px\" >  </div>"
   ]
  },
  {
   "cell_type": "markdown",
   "id": "738f0485",
   "metadata": {},
   "source": [
    "The ScientISST - Sense development board is built upon an ESP32-WROOM-32, a powerful, generic Wi-Fi+BT+BLE MCU module, which has at its core the ESP32-D0WDQ6 chip. This is why you need to install the ESP32 add-on in the Arduino IDE in order to program the ScientISST - Sense development board on there using its programming language (C/C++). To do so, follow these next instructions:"
   ]
  },
  {
   "cell_type": "markdown",
   "id": "4443485c",
   "metadata": {},
   "source": [
    "**1\\.** In the Arduino IDE, go to File > Preferences.<br>\n",
    "\n",
    "<table>\n",
    "<tr>\n",
    "<td> <img src=\"https://raw.githubusercontent.com/LeoPereira89817/scientisst-sense-arduino-ide-tutorial/main/images/file_preference_marked.png\" width=\"200\" style=\"display:block; margin:auto\"/> </td>\n",
    "</tr></table>"
   ]
  },
  {
   "cell_type": "markdown",
   "id": "cfef142f",
   "metadata": {},
   "source": [
    "**2\\.** Enter https://dl.espressif.com/dl/package_esp32_index.json [[3]](#reference_3) into the “Additional Board Manager URLs” field in the “Preferences” window as shown in the figure below. Then, click the “OK” button:<br>\n",
    "\n",
    "<table>\n",
    "<tr>\n",
    "<td> <img src=\"https://raw.githubusercontent.com/LeoPereira89817/scientisst-sense-arduino-ide-tutorial/main/images/preferences_marked.png\" width=\"600\" style=\"display:block; margin:auto\"/> </td>\n",
    "</tr></table>\n",
    "\n",
    "> **Note:** \n",
    "If you already have the URL of another board in the “Additional Board Manager URLs” field, you can separate the URLs with a comma as displayed in the figure above."
   ]
  },
  {
   "cell_type": "markdown",
   "id": "beff0da0",
   "metadata": {},
   "source": [
    "**3\\.** Open the Boards Manager. Go to Tools > Board > Boards Manager...<br>\n",
    "\n",
    "<table>\n",
    "<tr>\n",
    "<td> <img src=\"https://raw.githubusercontent.com/LeoPereira89817/scientisst-sense-arduino-ide-tutorial/main/images/tools_boards_marked.png\" width=\"600\" style=\"display:block; margin:auto\"/> </td>\n",
    "</tr></table>"
   ]
  },
  {
   "cell_type": "markdown",
   "id": "3408401f",
   "metadata": {},
   "source": [
    "**4\\.** Search for ESP32 and press the “Install” button for the “**esp32** by **Espressif Systems**”.<br>\n",
    "\n",
    "<table>\n",
    "<tr>\n",
    "<td> <img src=\"https://raw.githubusercontent.com/LeoPereira89817/scientisst-sense-arduino-ide-tutorial/main/images/esp32_install_marked.png\" width=\"600\" style=\"display:block; margin:auto\"/> </td>\n",
    "</tr></table>"
   ]
  },
  {
   "cell_type": "markdown",
   "id": "bdac0ff4",
   "metadata": {},
   "source": [
    "**5\\.** The add-on should be installed after a few seconds, as shown in the following figure:<br>\n",
    "\n",
    "<table>\n",
    "<tr>\n",
    "<td> <img src=\"https://raw.githubusercontent.com/LeoPereira89817/scientisst-sense-arduino-ide-tutorial/main/images/esp32_installed.png\" width=\"600\" style=\"display:block; margin:auto\"/> </td>\n",
    "</tr></table>"
   ]
  },
  {
   "cell_type": "markdown",
   "id": "728c2d13",
   "metadata": {},
   "source": [
    "## III. Setting up your ScientISST board\n",
    "<br>\n",
    "<div class=\"title\"style=\"width:100%; background:#00a0e4;font-family:'arial black',monospace; text-align: center; padding: 7px 0; border-radius: 5px 50px;margin-top:-15px\" >  </div>"
   ]
  },
  {
   "cell_type": "markdown",
   "id": "6fc906e4",
   "metadata": {},
   "source": [
    "1. Connect the USB-C cable to your computer and to the corresponding socket on the ScientISST - Sense development board.<br>\n",
    "\n",
    "   1.1 Connect the standard USB-A connector to your computer:<br>\n",
    "   \n",
    "   <table>\n",
    "<tr>\n",
    "<td> <img src=\"https://raw.githubusercontent.com/LeoPereira89817/scientisst-sense-arduino-ide-tutorial/main/images/usb_pc.png\" width=\"600\" style=\"display:block; margin:auto\"/> </td>\n",
    "</tr></table>\n",
    "   \n",
    "   1.2 Connect the other end to your ScientISST - Sense development board:<br>\n",
    "   \n",
    "   <table>\n",
    "<tr>\n",
    "<td> <img src=\"https://raw.githubusercontent.com/LeoPereira89817/scientisst-sense-arduino-ide-tutorial/main/images/usb_board.png\" width=\"400\" style=\"display:block; margin:auto\"/> </td>\n",
    "</tr></table>"
   ]
  },
  {
   "cell_type": "markdown",
   "id": "79d84c4d",
   "metadata": {},
   "source": [
    "At this point, the built-in blue LED on the back of the ScientISST - Sense development board should be turned on, and the built-in white LED on the front should be flashing repeatedly if the board still carries the original firmware for the ScientISST - Sense development board."
   ]
  },
  {
   "cell_type": "markdown",
   "id": "2711bf40",
   "metadata": {},
   "source": [
    "**2\\.** In the Arduino IDE, go to Tools > Board > ESP32 Arduino and select your board model, i.e. ESP32 Dev Module.<br>\n",
    "\n",
    "<table>\n",
    "<tr>\n",
    "<td> <img src=\"https://raw.githubusercontent.com/LeoPereira89817/scientisst-sense-arduino-ide-tutorial/main/images/select_board_marked.png\" width=\"600\" style=\"display:block; margin:auto\"/> </td>\n",
    "</tr></table>"
   ]
  },
  {
   "cell_type": "markdown",
   "id": "6e4ea35a",
   "metadata": {},
   "source": [
    "**3\\.** Go to Tools > Port and select the port that your ScientISST - Sense development board is using. On Windows it should have the prefix COM, followed by an integer number (as is the case in the figure below), and on Mac OS it should have the prefix /dev/cu.usb or /dev/tty.usb. Usually the port of your newly added device appears at the end of the list:\n",
    "\n",
    "<table>\n",
    "<tr>\n",
    "<td> <img src=\"https://raw.githubusercontent.com/LeoPereira89817/scientisst-sense-arduino-ide-tutorial/main/images/port_marked.png\" width=\"600\" style=\"display:block; margin:auto\"/> </td>\n",
    "</tr></table>\n",
    "\n",
    "> **Note:** \n",
    "If you don’t see the COM Port in your Arduino IDE, you need to install the CP210x USB to UART Bridge VCP Drivers from: https://www.silabs.com/developers/usb-to-uart-bridge-vcp-drivers [[4]](#reference_4)."
   ]
  },
  {
   "cell_type": "markdown",
   "id": "dc69e567",
   "metadata": {},
   "source": [
    "**4\\.** To upload the sketch with your code written on the Arduino IDE, you must first put your ScientISST - Sense development board on XXXX mode. To do so, you will need to use the RESET and MODE buttons on the ScientISST - Sense development board, shown in the following figure:\n",
    "\n",
    "<table>\n",
    "<tr>\n",
    "<td> <img src=\"https://raw.githubusercontent.com/LeoPereira89817/scientisst-sense-arduino-ide-tutorial/main/images/reset_mode.png\" width=\"300\" style=\"display:block; margin:auto\"/> </td>\n",
    "</tr></table>"
   ]
  },
  {
   "cell_type": "markdown",
   "id": "db5d0ba6",
   "metadata": {},
   "source": [
    "Before uploading the sketch, first hold down the RESET button. Then, hold down at the same time the MODE button. With both buttons held down, if the previous steps were done correctly, the white LED should have stopped blinking. Next, let go off the RESET button and after that the MODE button.\n",
    "\n",
    "At this point, the ScientISST - Sense development board is now on XXXX mode and is ready to have the sketch uploaded to it."
   ]
  },
  {
   "cell_type": "markdown",
   "id": "01c9bacb",
   "metadata": {},
   "source": [
    "**5\\.** Upload the sketch to your board by clicking the “Upload” button in the Arduino IDE:\n",
    "\n",
    "<table>\n",
    "<tr>\n",
    "<td> <img src=\"https://raw.githubusercontent.com/LeoPereira89817/scientisst-sense-arduino-ide-tutorial/main/images/upload.png\" width=\"300\" style=\"display:block; margin:auto\"/> </td>\n",
    "</tr></table>"
   ]
  },
  {
   "cell_type": "markdown",
   "id": "d1d74884",
   "metadata": {},
   "source": [
    "Wait a few seconds while the code compiles and uploads to your board. If everything went as expected, the MESSAGES section of the Arduino IDE should show a notification indicating that the code has been uploaded, and list general information regarding the device and memory use:\n",
    "\n",
    "<table>\n",
    "<tr>\n",
    "<td> <img src=\"https://raw.githubusercontent.com/LeoPereira89817/ScientISST_Tutorial/main/images/done_uploading.png\" width=\"600\" style=\"display:block; margin:auto\"/> </td>\n",
    "</tr></table>\n",
    "\n",
    "> **Note:**\n",
    "In case you obtain an error during the upload, read the output in the MESSAGES section carefully and you will likely be able to have a rough idea of what went wrong. The most common causes of problems are syntax errors in your code, a mismatching board version on the Arduino IDE, or a wrongly selected port, so please review your code and try to identify any typos or mismatching\n",
    "characters."
   ]
  },
  {
   "cell_type": "markdown",
   "id": "b98be8d4",
   "metadata": {},
   "source": [
    "**6\\.** Finally, press the RESET button to have your ScientISST - Sense development board run the uploaded code."
   ]
  },
  {
   "cell_type": "markdown",
   "id": "06d2aaf3",
   "metadata": {},
   "source": [
    "## IV. Testing your Setup \n",
    "<br>\n",
    "<div class=\"title\"style=\"width:100%; background:#00a0e4;font-family:'arial black',monospace; text-align: center; padding: 7px 0; border-radius: 5px 50px;margin-top:-15px\" >  </div>"
   ]
  },
  {
   "cell_type": "markdown",
   "id": "dcda06ae",
   "metadata": {},
   "source": [
    "To test your setup, follow the steps from Section III and upload the Blink sketch, one of the built-in examples of the Arduino IDE that can be loaded from File > Examples > 01.Basics > Blink:\n",
    "\n",
    "<table>\n",
    "<tr>\n",
    "<td> <img src=\"https://raw.githubusercontent.com/LeoPereira89817/scientisst-sense-arduino-ide-tutorial/main/images/blink.png\" width=\"600\" style=\"display:block; margin:auto\"/> </td>\n",
    "</tr></table>\n",
    "\n",
    "> **Note:**\n",
    "Don't forget to replace the ```LED_BUILTIN``` in the Blink sketch with the number of the pin connected to the white LED (GPIO 22).\n",
    "\n",
    "Upon successful completion of the process, the white LED on the front of the board should be on for one second, then off for one second, repeatedly."
   ]
  },
  {
   "cell_type": "markdown",
   "id": "4770422d",
   "metadata": {},
   "source": [
    "## V. References\n",
    "<br>\n",
    "<div class=\"title\"style=\"width:100%; background:#00a0e4;font-family:'arial black',monospace; text-align: center; padding: 7px 0; border-radius: 5px 50px;margin-top:-15px\" >  </div>"
   ]
  },
  {
   "cell_type": "markdown",
   "id": "b8fccf66",
   "metadata": {},
   "source": [
    "<a id='reference_1'></a> 1\\. https://www.arduino.cc/en/software\n",
    "\n",
    "<a id='reference_2'></a> 2\\. https://www.arduino.cc/en/Guide/Environment\n",
    "\n",
    "<a id='reference_3'></a> 3\\. https://dl.espressif.com/dl/package_esp32_index.json\n",
    "\n",
    "<a id='reference_4'></a> 4\\. https://www.silabs.com/developers/usb-to-uart-bridge-vcp-drivers"
   ]
  },
  {
   "cell_type": "markdown",
   "id": "4ef36e5f",
   "metadata": {},
   "source": [
    "<div style=\"height:100px; background:white;border-radius:10px;text-align:center\"> \n",
    "\n",
    "<a> <img src=\"https://github.com/PIA-Group/ScientIST-notebooks/blob/master/_Resources/Images/IT.png?raw=true\" alt=\"it\" style=\" bottom: 0; width:250px;\n",
    "    display: inline;\n",
    "    left: 250px;\n",
    "    position: absolute;\"/> </a>\n",
    "<img src=\"https://github.com/PIA-Group/ScientIST-notebooks/blob/master/_Resources/Images/IST.png?raw=true\"\n",
    "         alt=\"alternate text\" \n",
    "         style=\"position: relative;   width:250px; float: left;\n",
    "    position: absolute;\n",
    "    display: inline;\n",
    "    bottom: 0;\n",
    "    right: 100;\"/>\n",
    "</div> "
   ]
  },
  {
   "cell_type": "markdown",
   "id": "91458831",
   "metadata": {},
   "source": [
    "```Contributors: Prof. Hugo Silva; Leonor Pereira```"
   ]
  }
 ],
 "metadata": {
  "kernelspec": {
   "display_name": "Python 3 (ipykernel)",
   "language": "python",
   "name": "python3"
  },
  "language_info": {
   "codemirror_mode": {
    "name": "ipython",
    "version": 3
   },
   "file_extension": ".py",
   "mimetype": "text/x-python",
   "name": "python",
   "nbconvert_exporter": "python",
   "pygments_lexer": "ipython3",
   "version": "3.9.7"
  }
 },
 "nbformat": 4,
 "nbformat_minor": 5
}
